{
 "cells": [
  {
   "cell_type": "code",
   "execution_count": 7,
   "id": "d677c7ef",
   "metadata": {},
   "outputs": [],
   "source": [
    "import numpy as np\n",
    "from sage.combinat.cartesian_product import CartesianProduct_iters, CartesianProduct\n",
    "import matplotlib.pyplot as plt\n"
   ]
  },
  {
   "cell_type": "code",
   "execution_count": 25,
   "id": "689653b2",
   "metadata": {},
   "outputs": [
    {
     "ename": "KeyError",
     "evalue": "0",
     "output_type": "error",
     "traceback": [
      "\u001b[0;31m---------------------------------------------------------------------------\u001b[0m",
      "\u001b[0;31mKeyError\u001b[0m                                  Traceback (most recent call last)",
      "\u001b[0;32m<ipython-input-25-c3039bbf0e6e>\u001b[0m in \u001b[0;36m<module>\u001b[0;34m\u001b[0m\n\u001b[1;32m     29\u001b[0m \u001b[0mCartesianLinesF4\u001b[0m \u001b[0;34m=\u001b[0m \u001b[0mvgetPointsRaros\u001b[0m\u001b[0;34m(\u001b[0m\u001b[0mnewAlines\u001b[0m\u001b[0;34m,\u001b[0m \u001b[0maK\u001b[0m\u001b[0;34m)\u001b[0m\u001b[0;34m\u001b[0m\u001b[0;34m\u001b[0m\u001b[0m\n\u001b[1;32m     30\u001b[0m \u001b[0;34m\u001b[0m\u001b[0m\n\u001b[0;32m---> 31\u001b[0;31m \u001b[0mplot_lines_set\u001b[0m\u001b[0;34m(\u001b[0m\u001b[0mCartesianMainLinesF\u001b[0m\u001b[0;34m,\u001b[0m \u001b[0morder\u001b[0m\u001b[0;34m,\u001b[0m \u001b[0mcolors\u001b[0m\u001b[0;34m,\u001b[0m \u001b[0;34m'P81/'\u001b[0m\u001b[0;34m,\u001b[0m \u001b[0;32mFalse\u001b[0m\u001b[0;34m)\u001b[0m\u001b[0;34m\u001b[0m\u001b[0;34m\u001b[0m\u001b[0m\n\u001b[0m\u001b[1;32m     32\u001b[0m \u001b[0mplot_lines_set\u001b[0m\u001b[0;34m(\u001b[0m\u001b[0mCartesianMainLinesFp\u001b[0m\u001b[0;34m,\u001b[0m \u001b[0morder\u001b[0m\u001b[0;34m,\u001b[0m \u001b[0mcolors\u001b[0m\u001b[0;34m,\u001b[0m \u001b[0;34m''\u001b[0m\u001b[0;34m,\u001b[0m \u001b[0;32mTrue\u001b[0m\u001b[0;34m)\u001b[0m\u001b[0;34m\u001b[0m\u001b[0;34m\u001b[0m\u001b[0m\n\u001b[1;32m     33\u001b[0m \u001b[0;34m\u001b[0m\u001b[0m\n",
      "\u001b[0;32m<ipython-input-24-12afcd8ad48a>\u001b[0m in \u001b[0;36mplot_lines_set\u001b[0;34m(lines, ngrid, colors, folder, sort)\u001b[0m\n\u001b[1;32m     12\u001b[0m         \u001b[0;32melse\u001b[0m\u001b[0;34m:\u001b[0m\u001b[0;34m\u001b[0m\u001b[0;34m\u001b[0m\u001b[0m\n\u001b[1;32m     13\u001b[0m             \u001b[0mline\u001b[0m \u001b[0;34m=\u001b[0m \u001b[0mnp\u001b[0m\u001b[0;34m.\u001b[0m\u001b[0marray\u001b[0m\u001b[0;34m(\u001b[0m\u001b[0;34m(\u001b[0m\u001b[0mlines\u001b[0m\u001b[0;34m[\u001b[0m\u001b[0mi\u001b[0m\u001b[0;34m]\u001b[0m\u001b[0;34m)\u001b[0m\u001b[0;34m)\u001b[0m\u001b[0;34m\u001b[0m\u001b[0;34m\u001b[0m\u001b[0m\n\u001b[0;32m---> 14\u001b[0;31m         \u001b[0max\u001b[0m\u001b[0;34m.\u001b[0m\u001b[0mplot\u001b[0m\u001b[0;34m(\u001b[0m\u001b[0mline\u001b[0m\u001b[0;34m[\u001b[0m\u001b[0;34m:\u001b[0m\u001b[0;34m,\u001b[0m\u001b[0mInteger\u001b[0m\u001b[0;34m(\u001b[0m\u001b[0;36m0\u001b[0m\u001b[0;34m)\u001b[0m\u001b[0;34m]\u001b[0m\u001b[0;34m,\u001b[0m\u001b[0mline\u001b[0m\u001b[0;34m[\u001b[0m\u001b[0;34m:\u001b[0m\u001b[0;34m,\u001b[0m\u001b[0mInteger\u001b[0m\u001b[0;34m(\u001b[0m\u001b[0;36m1\u001b[0m\u001b[0;34m)\u001b[0m\u001b[0;34m]\u001b[0m\u001b[0;34m,\u001b[0m \u001b[0mcolor\u001b[0m \u001b[0;34m=\u001b[0m \u001b[0mcolors\u001b[0m\u001b[0;34m[\u001b[0m\u001b[0mi\u001b[0m\u001b[0;34m]\u001b[0m\u001b[0;34m)\u001b[0m\u001b[0;34m\u001b[0m\u001b[0;34m\u001b[0m\u001b[0m\n\u001b[0m\u001b[1;32m     15\u001b[0m \u001b[0;34m\u001b[0m\u001b[0m\n\u001b[1;32m     16\u001b[0m     \u001b[0mfig\u001b[0m\u001b[0;34m.\u001b[0m\u001b[0msavefig\u001b[0m\u001b[0;34m(\u001b[0m\u001b[0;34mf'{folder}linasPrincipalesCadaDireccion{npoints}.png'\u001b[0m\u001b[0;34m)\u001b[0m\u001b[0;34m\u001b[0m\u001b[0;34m\u001b[0m\u001b[0m\n",
      "\u001b[0;31mKeyError\u001b[0m: 0"
     ]
    },
    {
     "data": {
      "image/png": "[encoded data removed]",
      "text/plain": [
       "<Figure size 1440x1440 with 1 Axes>"
      ]
     },
     "metadata": {
      "needs_background": "light"
     },
     "output_type": "display_data"
    }
   ],
   "source": [
    "order = 4\n",
    "\n",
    "G = GF(order)\n",
    "K = list(G)\n",
    "\n",
    "\n",
    "\n",
    "K2 = CartesianProduct_iters(K,K)\n",
    "\n",
    "\n",
    "aK = merge_sort(np.array(K))\n",
    "aKp = (np.array(K))\n",
    "\n",
    "\n",
    "aK2 = np.array(K2.list())\n",
    "\n",
    "mK2 = np.reshape(aK2, [order,order,2])\n",
    "\n",
    "\n",
    "mainLinesF = generateOrderMainLines(mK2, aK,product_Zmod3)\n",
    "mainLinesFp = generateOrderMainLines(mK2, aKp,product_Zmod3)\n",
    "\n",
    "newAlines = generateNewLines(mainLinesF, aK, dilatation)\n",
    "\n",
    "\n",
    "CartesianMainLinesF = vgetPointsRaros(mainLinesF, aK)\n",
    "CartesianMainLinesFp = vgetPointsRaros(mainLinesF, aKp)\n",
    "\n",
    "CartesianLinesF4 = vgetPointsRaros(newAlines, aK)\n",
    "\n",
    "plot_lines_set(CartesianMainLinesF, order, colors, 'P81/', False)\n",
    "plot_lines_set(CartesianMainLinesFp, order, colors, '', True)\n",
    "\n",
    "plot_lines_set(CartesianLinesF4[0], order, colors, '', False)\n",
    "\n",
    "\n",
    "\n",
    "plot_plano(CartesianLinesF4,'P81/')\n"
   ]
  },
  {
   "cell_type": "code",
   "execution_count": 15,
   "id": "923b5bdf",
   "metadata": {},
   "outputs": [],
   "source": [
    "def merge_sort(array):\n",
    "    # If the input array contains fewer than two elements,\n",
    "    # then return it as the result of the function\n",
    "    if len(array) < 2:\n",
    "        return array\n",
    "    \n",
    "\n",
    "    midpoint = len(array) // 2\n",
    "\n",
    "    # Sort the array by recursively splitting the input\n",
    "    # into two equal halves, sorting each half and merging them\n",
    "    # together into the final result\n",
    "    return merge(\n",
    "        left=merge_sort(array[:midpoint]),\n",
    "        right=merge_sort(array[midpoint:]))\n",
    "\n",
    "\n",
    "def merge(left, right):\n",
    "    # If the first array is empty, then nothing needs\n",
    "    # to be merged, and you can return the second array as the result\n",
    "    #print('l',left,'r', right)\n",
    "    if len(left) == 0:\n",
    "        return right\n",
    "\n",
    "    # If the second array is empty, then nothing needs\n",
    "    # to be merged, and you can return the first array as the result\n",
    "    if len(right) == 0:\n",
    "        return left\n",
    "\n",
    "    result = []\n",
    "    index_left = index_right = 0\n",
    "    \n",
    "\n",
    "    # Now go through both arrays until all the elements\n",
    "    # make it into the resultant array\n",
    "    while len(result) < len(left) + len(right):\n",
    "        # The elements need to be sorted to add them to the\n",
    "        # resultant array, so you need to decide whether to get\n",
    "        # the next element from the first or the second array\n",
    "        try:\n",
    "            condition = left[index_left][0] <= right[index_right][0]\n",
    "        except:\n",
    "            condition = left[index_left] <= right[index_right]\n",
    "\n",
    "        if condition:\n",
    "            result.append(left[index_left])\n",
    "            index_left += 1\n",
    "        else:\n",
    "            result.append(right[index_right])\n",
    "            index_right += 1\n",
    "\n",
    "        # If you reach the end of either array, then you can\n",
    "        # add the remaining elements from the other array to\n",
    "        # the result and break the loop\n",
    "        if index_right == len(right):\n",
    "            #print(result,left,right)\n",
    "            for i in left[index_left:]:\n",
    "                result.append(i)\n",
    "            break\n",
    "\n",
    "        if index_left == len(left):\n",
    "            #print(result,left,right)\n",
    "            for i in right[index_right:]:\n",
    "                result.append(i)\n",
    "            break\n",
    "            \n",
    "    #print(result)\n",
    "\n",
    "    return result"
   ]
  },
  {
   "cell_type": "code",
   "execution_count": 9,
   "id": "ffeaeb02",
   "metadata": {},
   "outputs": [],
   "source": [
    "def generateOrderMainLines(mK2,K, product): #Recibe como parametros dos numpy array uno es el grupo G y el otro es GXG\n",
    "    \n",
    "    mainLines = []\n",
    "    for point in mK2[1,:]:        \n",
    "        mainLines.append(merge_sort(product(np.repeat([point],len(K), axis=0), np.transpose(np.array([K,K])))))\n",
    "    \n",
    "    mainLines.append(merge_sort(product(np.repeat([mK2[0,:][1]],len(K), axis=0), np.transpose(np.array([K,K])))))\n",
    "    return np.array(mainLines)"
   ]
  },
  {
   "cell_type": "code",
   "execution_count": 11,
   "id": "35daaf55",
   "metadata": {},
   "outputs": [],
   "source": [
    "def product_Zmod3(a,b):\n",
    "    ab = a*b\n",
    "        \n",
    "    return ab    "
   ]
  },
  {
   "cell_type": "code",
   "execution_count": 17,
   "id": "2c57e0c1",
   "metadata": {},
   "outputs": [],
   "source": [
    "def generateNewLines(mainLines2,group,fdilatation):\n",
    "    alldirlines  = []\n",
    "    for l in range(len(mainLines2)): #calcula las demas lineas a partir de la dilatacion\n",
    "        lines = []\n",
    "\n",
    "        for i in group:\n",
    "            \n",
    "            if mainLines2[l][1][0] == 0: \n",
    "                #print(fdilatation(mainLines2[l],i,0,1))\n",
    "                lines.append(merge_sort(fdilatation(mainLines2[l],i,0,1)))\n",
    "            elif mainLines2[l][1][1] == 0:\n",
    "                #print(fdilatation(mainLines2[l],0,i,1))\n",
    "                lines.append(merge_sort(fdilatation(mainLines2[l],0,i,1)))\n",
    "            else:\n",
    "                lines.append(merge_sort(fdilatation(mainLines2[l],i,0,1)))\n",
    "                #print(fdilatation(mainLines2[l],i,0,1))\n",
    "                \n",
    "        alines = np.array(lines)\n",
    "        alldirlines.append(alines)\n",
    "\n",
    "    aalldirlines = np.array(alldirlines)\n",
    "    return aalldirlines\n"
   ]
  },
  {
   "cell_type": "code",
   "execution_count": 19,
   "id": "eb2c2aba",
   "metadata": {},
   "outputs": [],
   "source": [
    "def dilatation(l,a,b,y): #define una dilatacion como se especifica arriba\n",
    "    return y*l+ np.array([a,b])"
   ]
  },
  {
   "cell_type": "code",
   "execution_count": 22,
   "id": "28e666eb",
   "metadata": {},
   "outputs": [],
   "source": [
    "def getPointsRaros(a, G):\n",
    "    valor = 0\n",
    "    for i in range(len(G)):\n",
    "        if(a == G[i]):\n",
    "            valor = i\n",
    "    return valor\n",
    "\n",
    "\n",
    "vgetPointsRaros = np.vectorize(getPointsRaros,  excluded=['G'])\n",
    "\n",
    "vgetPointsRaros.excluded.add(1)"
   ]
  },
  {
   "cell_type": "code",
   "execution_count": 24,
   "id": "6313826b",
   "metadata": {},
   "outputs": [],
   "source": [
    "def plot_lines_set(lines, ngrid, colors, folder, sort):\n",
    "    npoints = ngrid\n",
    "    xpoint = np.matrix(np.arange(npoints))\n",
    "    fig, ax = plt.subplots(figsize=(20,20))\n",
    "    ax.set_facecolor(\"black\")\n",
    "    for i in range(npoints):\n",
    "        ax.plot(xpoint, np.ones(len(xpoint))*i, '*',color = 'r')\n",
    "                        \n",
    "    for i in range(len(lines)):\n",
    "        if sort:\n",
    "            line = np.array(merge_sort(lines[i]))\n",
    "        else:\n",
    "            line = np.array((lines[i]))\n",
    "        ax.plot(line[:,0],line[:,1], color = colors[i])\n",
    "    \n",
    "    fig.savefig(f'{folder}linasPrincipalesCadaDireccion{npoints}.png')\n",
    "    fig.savefig(f'{folder}linasPrincipalesCadaDireccion{npoints}.svg')\n"
   ]
  },
  {
   "cell_type": "code",
   "execution_count": null,
   "id": "d0deda66",
   "metadata": {},
   "outputs": [],
   "source": []
  }
 ],
 "metadata": {
  "kernelspec": {
   "display_name": "SageMath 9.0",
   "language": "sage",
   "name": "sagemath"
  },
  "language_info": {
   "codemirror_mode": {
    "name": "ipython",
    "version": 3
   },
   "file_extension": ".py",
   "mimetype": "text/x-python",
   "name": "python",
   "nbconvert_exporter": "python",
   "pygments_lexer": "ipython3",
   "version": "3.8.10"
  }
 },
 "nbformat": 4,
 "nbformat_minor": 5
}
